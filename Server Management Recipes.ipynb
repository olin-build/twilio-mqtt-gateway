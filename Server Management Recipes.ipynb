{
 "cells": [
  {
   "cell_type": "markdown",
   "metadata": {},
   "source": [
    "# Twilio Gateway Management"
   ]
  },
  {
   "cell_type": "markdown",
   "metadata": {},
   "source": [
    "## Setup"
   ]
  },
  {
   "cell_type": "code",
   "execution_count": 1,
   "metadata": {
    "collapsed": true
   },
   "outputs": [
    {
     "name": "stdout",
     "output_type": "stream",
     "text": []
    }
   ],
   "source": [
    "!pip install Faker ipython_secrets pandas twilio"
   ]
  },
  {
   "cell_type": "code",
   "execution_count": 2,
   "metadata": {},
   "outputs": [],
   "source": [
    "from ipython_secrets import get_secret\n",
    "TWILIO_ACCOUNT_SID = get_secret('TWILIO_ACCOUNT_SID', 'olin-build')\n",
    "TWILIO_AUTH_TOKEN = get_secret('TWILIO_AUTH_TOKEN', 'olin-build')\n",
    "MQTT_URL = get_secret('MQTT_URL', 'olin-build')"
   ]
  },
  {
   "cell_type": "markdown",
   "metadata": {},
   "source": [
    "## Provisioning Phone Numbers"
   ]
  },
  {
   "cell_type": "markdown",
   "metadata": {},
   "source": [
    "Create a Twilio client, and test it."
   ]
  },
  {
   "cell_type": "markdown",
   "metadata": {},
   "source": [
    "Read the class Roster."
   ]
  },
  {
   "cell_type": "code",
   "execution_count": 3,
   "metadata": {},
   "outputs": [
    {
     "data": {
      "text/plain": [
       "30"
      ]
     },
     "execution_count": 19,
     "metadata": {},
     "output_type": "execute_result"
    }
   ],
   "source": [
    "from twilio.rest import Client\n",
    "\n",
    "client = Client(TWILIO_ACCOUNT_SID, TWILIO_AUTH_TOKEN)\n",
    "numbers = client.available_phone_numbers(\"US\") \\\n",
    "                .local \\\n",
    "                .list(area_code=\"617\")\n",
    "\n",
    "len(numbers)"
   ]
  },
  {
   "cell_type": "code",
   "execution_count": 4,
   "metadata": {
    "scrolled": false
   },
   "outputs": [],
   "source": [
    "import pandas as pd\n",
    "df = pd.read_csv('data/HtL Roster.csv')\n",
    "\n",
    "# df.head()  # <- FERPA"
   ]
  },
  {
   "cell_type": "markdown",
   "metadata": {},
   "source": [
    "Scrub student names so this can be published on the open web. Skip this in actual use."
   ]
  },
  {
   "cell_type": "code",
   "execution_count": 5,
   "metadata": {},
   "outputs": [
    {
     "data": {
      "text/html": [
       "<div>\n",
       "<style scoped>\n",
       "    .dataframe tbody tr th:only-of-type {\n",
       "        vertical-align: middle;\n",
       "    }\n",
       "\n",
       "    .dataframe tbody tr th {\n",
       "        vertical-align: top;\n",
       "    }\n",
       "\n",
       "    .dataframe thead th {\n",
       "        text-align: right;\n",
       "    }\n",
       "</style>\n",
       "<table border=\"1\" class=\"dataframe\">\n",
       "  <thead>\n",
       "    <tr style=\"text-align: right;\">\n",
       "      <th></th>\n",
       "      <th>First Name</th>\n",
       "      <th>Last Name</th>\n",
       "      <th>Email</th>\n",
       "      <th>GitHub Login</th>\n",
       "      <th>Twilio Phone Number</th>\n",
       "    </tr>\n",
       "  </thead>\n",
       "  <tbody>\n",
       "    <tr>\n",
       "      <th>0</th>\n",
       "      <td>Shelly</td>\n",
       "      <td>Brown</td>\n",
       "      <td>NaN</td>\n",
       "      <td>NaN</td>\n",
       "      <td>NaN</td>\n",
       "    </tr>\n",
       "    <tr>\n",
       "      <th>1</th>\n",
       "      <td>Tracy</td>\n",
       "      <td>Jackson</td>\n",
       "      <td>NaN</td>\n",
       "      <td>NaN</td>\n",
       "      <td>NaN</td>\n",
       "    </tr>\n",
       "    <tr>\n",
       "      <th>2</th>\n",
       "      <td>Ashley</td>\n",
       "      <td>Oneal</td>\n",
       "      <td>NaN</td>\n",
       "      <td>NaN</td>\n",
       "      <td>NaN</td>\n",
       "    </tr>\n",
       "    <tr>\n",
       "      <th>3</th>\n",
       "      <td>Robert</td>\n",
       "      <td>Powell</td>\n",
       "      <td>NaN</td>\n",
       "      <td>NaN</td>\n",
       "      <td>NaN</td>\n",
       "    </tr>\n",
       "    <tr>\n",
       "      <th>4</th>\n",
       "      <td>Theresa</td>\n",
       "      <td>Bolton</td>\n",
       "      <td>NaN</td>\n",
       "      <td>NaN</td>\n",
       "      <td>NaN</td>\n",
       "    </tr>\n",
       "  </tbody>\n",
       "</table>\n",
       "</div>"
      ],
      "text/plain": [
       "  First Name Last Name  Email  GitHub Login  Twilio Phone Number\n",
       "0     Shelly     Brown    NaN           NaN                  NaN\n",
       "1      Tracy   Jackson    NaN           NaN                  NaN\n",
       "2     Ashley     Oneal    NaN           NaN                  NaN\n",
       "3     Robert    Powell    NaN           NaN                  NaN\n",
       "4    Theresa    Bolton    NaN           NaN                  NaN"
      ]
     },
     "execution_count": 33,
     "metadata": {},
     "output_type": "execute_result"
    }
   ],
   "source": [
    "from faker import Faker\n",
    "\n",
    "fake = Faker()\n",
    "df['First Name'] = [fake.first_name() for _ in range(len(df))]\n",
    "df['Last Name'] = [fake.last_name() for _ in range(len(df))]\n",
    "\n",
    "df.head()"
   ]
  },
  {
   "cell_type": "markdown",
   "metadata": {},
   "source": [
    "Find some numbers."
   ]
  },
  {
   "cell_type": "code",
   "execution_count": 6,
   "metadata": {},
   "outputs": [],
   "source": [
    "available_numbers = client.available_phone_numbers(\"US\") \\\n",
    "    .local \\\n",
    "    .list(area_code=\"617\")\n",
    "\n",
    "assert len(available_numbers) >= len(df), \"Large class. Add a loop above.\""
   ]
  },
  {
   "cell_type": "markdown",
   "metadata": {},
   "source": [
    "Buy everyone a phone number.\n",
    "\n",
    "In theory, `create` can fail because of a race between `list` and `create`.\n",
    "In practice, this didn't happen, so this code doesn't handle it."
   ]
  },
  {
   "cell_type": "code",
   "execution_count": 7,
   "metadata": {},
   "outputs": [
    {
     "name": "stdout",
     "output_type": "stream",
     "text": [
      "Provisioned 13 phone numbers: +16179344108, +16178551060, +16179172199, +16173935534, +16179816315, +16176827845, +16175539529, +16172497676, +16173796027, +16177516532, +16179346307, +16173797614, +16178706551\n"
     ]
    }
   ],
   "source": [
    "from itertools import starmap\n",
    "\n",
    "def create_number(first_name, last_name, number):\n",
    "    friendly_name=' '.join([first_name, last_name])\n",
    "    return client.incoming_phone_numbers\n",
    "        .create(phone_number=number.phone_number, friendly_name=friendly_name)\n",
    "\n",
    "numbers = list(starmap(create_number, zip(df['First Name'], df['Last Name'], available_numbers)))\n",
    "print('Provisioned', len(numbers), 'phone numbers:', ', '.join(number.phone_number for number in numbers))"
   ]
  },
  {
   "cell_type": "code",
   "execution_count": 8,
   "metadata": {
    "scrolled": true
   },
   "outputs": [
    {
     "data": {
      "text/html": [
       "<div>\n",
       "<style scoped>\n",
       "    .dataframe tbody tr th:only-of-type {\n",
       "        vertical-align: middle;\n",
       "    }\n",
       "\n",
       "    .dataframe tbody tr th {\n",
       "        vertical-align: top;\n",
       "    }\n",
       "\n",
       "    .dataframe thead th {\n",
       "        text-align: right;\n",
       "    }\n",
       "</style>\n",
       "<table border=\"1\" class=\"dataframe\">\n",
       "  <thead>\n",
       "    <tr style=\"text-align: right;\">\n",
       "      <th></th>\n",
       "      <th>First Name</th>\n",
       "      <th>Last Name</th>\n",
       "      <th>Email</th>\n",
       "      <th>GitHub Login</th>\n",
       "      <th>Twilio Phone Number</th>\n",
       "      <th>Twilio SID</th>\n",
       "    </tr>\n",
       "  </thead>\n",
       "  <tbody>\n",
       "    <tr>\n",
       "      <th>0</th>\n",
       "      <td>Shelly</td>\n",
       "      <td>Brown</td>\n",
       "      <td>NaN</td>\n",
       "      <td>NaN</td>\n",
       "      <td>+16179344108</td>\n",
       "      <td>PNb4e01d1a4a4469ceff6cbccced032ace</td>\n",
       "    </tr>\n",
       "    <tr>\n",
       "      <th>1</th>\n",
       "      <td>Tracy</td>\n",
       "      <td>Jackson</td>\n",
       "      <td>NaN</td>\n",
       "      <td>NaN</td>\n",
       "      <td>+16178551060</td>\n",
       "      <td>PN1f1dd8ea8656e9c632235148ab37db9f</td>\n",
       "    </tr>\n",
       "    <tr>\n",
       "      <th>2</th>\n",
       "      <td>Ashley</td>\n",
       "      <td>Oneal</td>\n",
       "      <td>NaN</td>\n",
       "      <td>NaN</td>\n",
       "      <td>+16179172199</td>\n",
       "      <td>PNe81eb2bc05880f0f610a3279c85bbb9c</td>\n",
       "    </tr>\n",
       "    <tr>\n",
       "      <th>3</th>\n",
       "      <td>Robert</td>\n",
       "      <td>Powell</td>\n",
       "      <td>NaN</td>\n",
       "      <td>NaN</td>\n",
       "      <td>+16173935534</td>\n",
       "      <td>PN5d014b7aaad2d177151578302455481c</td>\n",
       "    </tr>\n",
       "    <tr>\n",
       "      <th>4</th>\n",
       "      <td>Theresa</td>\n",
       "      <td>Bolton</td>\n",
       "      <td>NaN</td>\n",
       "      <td>NaN</td>\n",
       "      <td>+16179816315</td>\n",
       "      <td>PN5a492f3be08fe7872f4ce9d13f5fe652</td>\n",
       "    </tr>\n",
       "  </tbody>\n",
       "</table>\n",
       "</div>"
      ],
      "text/plain": [
       "  First Name Last Name  Email  GitHub Login Twilio Phone Number  \\\n",
       "0     Shelly     Brown    NaN           NaN        +16179344108   \n",
       "1      Tracy   Jackson    NaN           NaN        +16178551060   \n",
       "2     Ashley     Oneal    NaN           NaN        +16179172199   \n",
       "3     Robert    Powell    NaN           NaN        +16173935534   \n",
       "4    Theresa    Bolton    NaN           NaN        +16179816315   \n",
       "\n",
       "                           Twilio SID  \n",
       "0  PNb4e01d1a4a4469ceff6cbccced032ace  \n",
       "1  PN1f1dd8ea8656e9c632235148ab37db9f  \n",
       "2  PNe81eb2bc05880f0f610a3279c85bbb9c  \n",
       "3  PN5d014b7aaad2d177151578302455481c  \n",
       "4  PN5a492f3be08fe7872f4ce9d13f5fe652  "
      ]
     },
     "execution_count": 52,
     "metadata": {},
     "output_type": "execute_result"
    }
   ],
   "source": [
    "df['Twilio SID'] = [number.sid for number in numbers]\n",
    "df['Twilio Phone Number'] = [number.phone_number for number in numbers]\n",
    "df.to_csv('data/HtL Phone Numbers.csv')\n",
    "df.head()"
   ]
  },
  {
   "cell_type": "markdown",
   "metadata": {},
   "source": [
    "Set the SMS gateway. For historical reasons, this is done in a separate step for the initial provisioning. Note the gateway name for this version open web is slightly different from what we're actually using."
   ]
  },
  {
   "cell_type": "code",
   "execution_count": 9,
   "metadata": {},
   "outputs": [
    {
     "data": {
      "text/plain": [
       "13"
      ]
     },
     "execution_count": 53,
     "metadata": {},
     "output_type": "execute_result"
    }
   ],
   "source": [
    "len(number.update(sms_url='https://twilio-gateway-app.herokuapp.com/sms_webhook') for number in numbers)"
   ]
  },
  {
   "cell_type": "markdown",
   "metadata": {},
   "source": [
    "Create and provision a single number."
   ]
  },
  {
   "cell_type": "code",
   "execution_count": 10,
   "metadata": {},
   "outputs": [],
   "source": [
    "number = create_number('Joe', 'Frank', client.available_phone_numbers(\"US\").local.list(area_code=\"617\"))\n",
    "number.update(sms_url='https://twilio-gateway-app.herokuapp.com/sms_webhook')\n",
    "number.sid, number.phone_number"
   ]
  },
  {
   "cell_type": "markdown",
   "metadata": {},
   "source": [
    "## RabbitMQ Management"
   ]
  },
  {
   "cell_type": "markdown",
   "metadata": {},
   "source": [
    "In my brief exploration, I didn't find a Python rabbit client that works with ssh, so I wrote this instead."
   ]
  },
  {
   "cell_type": "code",
   "execution_count": 11,
   "metadata": {},
   "outputs": [
    {
     "name": "stdout",
     "output_type": "stream",
     "text": [
      "+--------------------+---------+\n",
      "|        name        |  type   |\n",
      "+--------------------+---------+\n",
      "|                    | direct  |\n",
      "| amq.direct         | direct  |\n",
      "| amq.fanout         | fanout  |\n",
      "| amq.headers        | headers |\n",
      "| amq.match          | headers |\n",
      "| amq.rabbitmq.trace | topic   |\n",
      "| amq.topic          | topic   |\n",
      "+--------------------+---------+\n"
     ]
    }
   ],
   "source": [
    "import subprocess\n",
    "from itertools import starmap\n",
    "from urllib.parse import urlparse\n",
    "\n",
    "RABBITMQ_BIN_PATH = '/usr/local/Cellar/rabbitmq/3.7.2/sbin/rabbitmqadmin'\n",
    "\n",
    "def rabbitmqadmin(*args, **kwargs):\n",
    "    url = urlparse(MQTT_URL)\n",
    "    admin_args = '-H termite.rmq.cloudamqp.com -P 443 --ssl -V djdnhvdd -u djdnhvdd -p PAevqYVXbfbUDzF0Xwe245jOAa37AzlF'.split()\n",
    "    connection_args = {\n",
    "        '-H': url.hostname,\n",
    "        '-P': 443,  # use SSL instead of the url.port\n",
    "        '-u': url.username,\n",
    "        '-p': url.password,\n",
    "        '-V': url.path.strip('/'),\n",
    "    }\n",
    "    admin_args = [str(x) for t in connection_args.items() for x in t] + ['--ssl']\n",
    "    res = subprocess.run([RABBIT_BIN_PATH] + admin_args + list(args) + list(starmap('{}={}'.format, kwargs.items())),\n",
    "                         stdout=subprocess.PIPE, stderr=subprocess.PIPE)\n",
    "    # This is an alternative to res.check_returncode(), that abuses the exception class to give a useful error message\n",
    "    if res.returncode != 0:\n",
    "        raise subprocess.CalledProcessError(res.returncode, res.stderr.decode().strip())\n",
    "    return res.stdout.decode().strip()\n",
    "\n",
    "print(rabbitmqadmin('list', 'exchanges'))"
   ]
  },
  {
   "cell_type": "markdown",
   "metadata": {},
   "source": [
    "Create and bind the queues"
   ]
  },
  {
   "cell_type": "code",
   "execution_count": 12,
   "metadata": {
    "scrolled": true
   },
   "outputs": [
    {
     "name": "stdout",
     "output_type": "stream",
     "text": [
      "creating and binding incoming-sms-16179344108\n",
      "creating and binding incoming-sms-16178551060\n",
      "creating and binding incoming-sms-16179172199\n",
      "creating and binding incoming-sms-16173935534\n",
      "creating and binding incoming-sms-16179816315\n",
      "creating and binding incoming-sms-16176827845\n",
      "creating and binding incoming-sms-16175539529\n",
      "creating and binding incoming-sms-16172497676\n",
      "creating and binding incoming-sms-16173796027\n",
      "creating and binding incoming-sms-16177516532\n",
      "creating and binding incoming-sms-16179346307\n",
      "creating and binding incoming-sms-16173797614\n",
      "creating and binding incoming-sms-16178706551\n"
     ]
    }
   ],
   "source": [
    "for phone_number in df['Twilio Phone Number']:\n",
    "    queue_name = phone_number.replace('+', 'incoming-sms-')\n",
    "    print('creating and binding', queue_name)\n",
    "    rabbitmqadmin('declare', 'queue', name=queue_name)\n",
    "    rabbitmqadmin('declare', 'binding', source='amq.topic', destination_type='queue', destination=queue_name, routing_key=queue_name)"
   ]
  },
  {
   "cell_type": "markdown",
   "metadata": {},
   "source": [
    "Create and bind a queue for a single number"
   ]
  },
  {
   "cell_type": "code",
   "execution_count": 13,
   "metadata": {},
   "outputs": [
    {
     "name": "stdout",
     "output_type": "stream",
     "text": [
      "creating and binding incoming-sms-16176741212\n"
     ]
    }
   ],
   "source": [
    "phone_number = '+16176741212'\n",
    "queue_name = phone_number.replace('+', 'incoming-sms-')\n",
    "print('creating and binding', queue_name)\n",
    "rabbitmqadmin('declare', 'queue', name=queue_name)\n",
    "rabbitmqadmin('declare', 'binding', source='amq.topic', destination_type='queue', destination=queue_name, routing_key=queue_name)"
   ]
  }
 ],
 "metadata": {
  "kernelspec": {
   "display_name": "Python 3",
   "language": "python",
   "name": "python3"
  },
  "language_info": {
   "codemirror_mode": {
    "name": "ipython",
    "version": 3
   },
   "file_extension": ".py",
   "mimetype": "text/x-python",
   "name": "python",
   "nbconvert_exporter": "python",
   "pygments_lexer": "ipython3",
   "version": "3.6.4"
  },
  "toc": {
   "nav_menu": {
    "height": "0px",
    "width": "0px"
   },
   "navigate_menu": true,
   "number_sections": true,
   "sideBar": true,
   "threshold": 4,
   "toc_cell": false,
   "toc_section_display": "block",
   "toc_window_display": false
  }
 },
 "nbformat": 4,
 "nbformat_minor": 2
}
